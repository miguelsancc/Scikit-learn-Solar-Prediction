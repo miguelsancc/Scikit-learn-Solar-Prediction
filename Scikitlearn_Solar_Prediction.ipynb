{
 "cells": [
  {
   "cell_type": "markdown",
   "id": "c5d2fb51",
   "metadata": {},
   "source": [
    "# Práctica 2\n",
    "\n",
    "### Vicente Marhuenda, Miguel Sánchez\n"
   ]
  },
  {
   "cell_type": "markdown",
   "id": "d71e04f9",
   "metadata": {},
   "source": [
    "## Datos"
   ]
  },
  {
   "cell_type": "code",
   "execution_count": null,
   "id": "4cf76d6b",
   "metadata": {},
   "outputs": [],
   "source": [
    "pip install feather-format"
   ]
  },
  {
   "cell_type": "code",
   "execution_count": 8,
   "id": "3ce67733",
   "metadata": {},
   "outputs": [],
   "source": [
    "feather?"
   ]
  },
  {
   "cell_type": "markdown",
   "id": "4dc5d359",
   "metadata": {},
   "source": [
    "Procedemos a cargar los datos del archivo feather,"
   ]
  },
  {
   "cell_type": "code",
   "execution_count": 51,
   "id": "596f2c07",
   "metadata": {},
   "outputs": [],
   "source": [
    "# leemos los datos que ya estan preprocesados\n",
    "import pyarrow\n",
    "import feather\n",
    "import pandas as pd\n",
    "import numpy as np\n",
    "disp_22=feather.read_dataframe(\"/Users/miguel/Desktop/Aprendizaje Automático/disp_22.feather\")"
   ]
  },
  {
   "cell_type": "code",
   "execution_count": 20,
   "id": "9db126f3",
   "metadata": {},
   "outputs": [
    {
     "name": "stdout",
     "output_type": "stream",
     "text": [
      "          salida  apcp_sf1_1  apcp_sf2_1  apcp_sf3_1  apcp_sf4_1  dlwrf_s1_1  \\\n",
      "0     10541700.0           1    0.000000         0.0           1  246.856309   \n",
      "1      4647300.0           1    0.010909         0.0           1  272.998596   \n",
      "2      7256400.0           1    0.000000         0.0           1  210.643638   \n",
      "3     10578600.0           1    0.000000         0.0           1  233.408503   \n",
      "4     10718100.0           1    0.000000         0.0           1  234.799111   \n",
      "...          ...         ...         ...         ...         ...         ...   \n",
      "4375   9841500.0           1    0.496364         0.0           1  271.805015   \n",
      "4376  10940400.0           1    0.000000         0.0           1  246.823819   \n",
      "4377  11273400.0           1    0.000000         0.0           1  275.082528   \n",
      "4378   9367800.0           1    0.000000         0.0           1  263.043868   \n",
      "4379  10616700.0           1    0.000000         0.0           1  267.385348   \n",
      "\n",
      "      dlwrf_s4_1  dlwrf_s5_1  dswrf_s1_1  dswrf_s2_1  ...  tmp_sfc1_1  \\\n",
      "0              1  258.922896           1   20.000000  ...  275.987468   \n",
      "1              2  306.292719           1   17.272727  ...  282.917995   \n",
      "2              1  258.749222           1   20.000000  ...  266.578508   \n",
      "3              1  234.622230           1   20.000000  ...  271.652039   \n",
      "4              1  277.391008           1   20.000000  ...  272.005884   \n",
      "...          ...         ...         ...         ...  ...         ...   \n",
      "4375           2  294.825229           1   16.363636  ...  279.782451   \n",
      "4376           2  271.886746           1   20.000000  ...  274.470600   \n",
      "4377           2  281.260479           1   20.000000  ...  278.222140   \n",
      "4378           2  291.805903           1   20.000000  ...  277.899064   \n",
      "4379           2  281.268957           1   20.000000  ...  278.778786   \n",
      "\n",
      "      ulwrf_t3_1  ulwrf_t4_1  uswrf_s1_1  dswrf_s5_1  pres_ms4_1  tmax_2m2_1  \\\n",
      "0     245.123907         0.0         0.0        blue        blue        blue   \n",
      "1     248.759998         0.0         0.0         red        blue        blue   \n",
      "2     218.298932         0.0         0.0       green        blue         red   \n",
      "3     237.125845         0.0         0.0        blue       green        blue   \n",
      "4     229.589168         0.0         0.0        blue         red        blue   \n",
      "...          ...         ...         ...         ...         ...         ...   \n",
      "4375  210.234385         0.0         0.0         red        blue        blue   \n",
      "4376  243.607801         0.0         0.0        blue        blue        blue   \n",
      "4377  248.759998         0.0         0.0        blue        blue        blue   \n",
      "4378  261.981312         0.0         0.0        blue         red        blue   \n",
      "4379  244.065235         0.0         0.0        blue        blue        blue   \n",
      "\n",
      "      tmp_sfc5_1  ulwrf_s4_1  ulwrf_t5_1  \n",
      "0           blue         red        blue  \n",
      "1           blue         red        blue  \n",
      "2           blue        blue        blue  \n",
      "3            red         red        blue  \n",
      "4           blue         red        blue  \n",
      "...          ...         ...         ...  \n",
      "4375        blue         red        blue  \n",
      "4376        blue        blue        blue  \n",
      "4377        blue        blue       green  \n",
      "4378        blue        blue        blue  \n",
      "4379        blue        blue        blue  \n",
      "\n",
      "[4380 rows x 76 columns]\n"
     ]
    }
   ],
   "source": [
    "print(disp_22)"
   ]
  },
  {
   "cell_type": "code",
   "execution_count": 85,
   "id": "46e9a9c5",
   "metadata": {},
   "outputs": [
    {
     "data": {
      "text/html": [
       "<div>\n",
       "<style scoped>\n",
       "    .dataframe tbody tr th:only-of-type {\n",
       "        vertical-align: middle;\n",
       "    }\n",
       "\n",
       "    .dataframe tbody tr th {\n",
       "        vertical-align: top;\n",
       "    }\n",
       "\n",
       "    .dataframe thead th {\n",
       "        text-align: right;\n",
       "    }\n",
       "</style>\n",
       "<table border=\"1\" class=\"dataframe\">\n",
       "  <thead>\n",
       "    <tr style=\"text-align: right;\">\n",
       "      <th></th>\n",
       "      <th>salida</th>\n",
       "      <th>apcp_sf1_1</th>\n",
       "      <th>apcp_sf2_1</th>\n",
       "      <th>apcp_sf3_1</th>\n",
       "      <th>apcp_sf4_1</th>\n",
       "      <th>dlwrf_s1_1</th>\n",
       "      <th>dlwrf_s4_1</th>\n",
       "      <th>dlwrf_s5_1</th>\n",
       "      <th>dswrf_s1_1</th>\n",
       "      <th>dswrf_s2_1</th>\n",
       "      <th>...</th>\n",
       "      <th>tmp_sfc1_1</th>\n",
       "      <th>ulwrf_t3_1</th>\n",
       "      <th>ulwrf_t4_1</th>\n",
       "      <th>uswrf_s1_1</th>\n",
       "      <th>dswrf_s5_1</th>\n",
       "      <th>pres_ms4_1</th>\n",
       "      <th>tmax_2m2_1</th>\n",
       "      <th>tmp_sfc5_1</th>\n",
       "      <th>ulwrf_s4_1</th>\n",
       "      <th>ulwrf_t5_1</th>\n",
       "    </tr>\n",
       "  </thead>\n",
       "  <tbody>\n",
       "    <tr>\n",
       "      <th>0</th>\n",
       "      <td>10541700.0</td>\n",
       "      <td>1</td>\n",
       "      <td>0.000000</td>\n",
       "      <td>0.0</td>\n",
       "      <td>1</td>\n",
       "      <td>246.856309</td>\n",
       "      <td>1</td>\n",
       "      <td>258.922896</td>\n",
       "      <td>1</td>\n",
       "      <td>20.000000</td>\n",
       "      <td>...</td>\n",
       "      <td>275.987468</td>\n",
       "      <td>245.123907</td>\n",
       "      <td>0.0</td>\n",
       "      <td>0.0</td>\n",
       "      <td>blue</td>\n",
       "      <td>blue</td>\n",
       "      <td>blue</td>\n",
       "      <td>blue</td>\n",
       "      <td>red</td>\n",
       "      <td>blue</td>\n",
       "    </tr>\n",
       "    <tr>\n",
       "      <th>1</th>\n",
       "      <td>4647300.0</td>\n",
       "      <td>1</td>\n",
       "      <td>0.010909</td>\n",
       "      <td>0.0</td>\n",
       "      <td>1</td>\n",
       "      <td>272.998596</td>\n",
       "      <td>2</td>\n",
       "      <td>306.292719</td>\n",
       "      <td>1</td>\n",
       "      <td>17.272727</td>\n",
       "      <td>...</td>\n",
       "      <td>282.917995</td>\n",
       "      <td>248.759998</td>\n",
       "      <td>0.0</td>\n",
       "      <td>0.0</td>\n",
       "      <td>red</td>\n",
       "      <td>blue</td>\n",
       "      <td>blue</td>\n",
       "      <td>blue</td>\n",
       "      <td>red</td>\n",
       "      <td>blue</td>\n",
       "    </tr>\n",
       "    <tr>\n",
       "      <th>2</th>\n",
       "      <td>7256400.0</td>\n",
       "      <td>1</td>\n",
       "      <td>0.000000</td>\n",
       "      <td>0.0</td>\n",
       "      <td>1</td>\n",
       "      <td>210.643638</td>\n",
       "      <td>1</td>\n",
       "      <td>258.749222</td>\n",
       "      <td>1</td>\n",
       "      <td>20.000000</td>\n",
       "      <td>...</td>\n",
       "      <td>266.578508</td>\n",
       "      <td>218.298932</td>\n",
       "      <td>0.0</td>\n",
       "      <td>0.0</td>\n",
       "      <td>green</td>\n",
       "      <td>blue</td>\n",
       "      <td>red</td>\n",
       "      <td>blue</td>\n",
       "      <td>blue</td>\n",
       "      <td>blue</td>\n",
       "    </tr>\n",
       "    <tr>\n",
       "      <th>3</th>\n",
       "      <td>10578600.0</td>\n",
       "      <td>1</td>\n",
       "      <td>0.000000</td>\n",
       "      <td>0.0</td>\n",
       "      <td>1</td>\n",
       "      <td>233.408503</td>\n",
       "      <td>1</td>\n",
       "      <td>234.622230</td>\n",
       "      <td>1</td>\n",
       "      <td>20.000000</td>\n",
       "      <td>...</td>\n",
       "      <td>271.652039</td>\n",
       "      <td>237.125845</td>\n",
       "      <td>0.0</td>\n",
       "      <td>0.0</td>\n",
       "      <td>blue</td>\n",
       "      <td>green</td>\n",
       "      <td>blue</td>\n",
       "      <td>red</td>\n",
       "      <td>red</td>\n",
       "      <td>blue</td>\n",
       "    </tr>\n",
       "    <tr>\n",
       "      <th>4</th>\n",
       "      <td>10718100.0</td>\n",
       "      <td>1</td>\n",
       "      <td>0.000000</td>\n",
       "      <td>0.0</td>\n",
       "      <td>1</td>\n",
       "      <td>234.799111</td>\n",
       "      <td>1</td>\n",
       "      <td>277.391008</td>\n",
       "      <td>1</td>\n",
       "      <td>20.000000</td>\n",
       "      <td>...</td>\n",
       "      <td>272.005884</td>\n",
       "      <td>229.589168</td>\n",
       "      <td>0.0</td>\n",
       "      <td>0.0</td>\n",
       "      <td>blue</td>\n",
       "      <td>red</td>\n",
       "      <td>blue</td>\n",
       "      <td>blue</td>\n",
       "      <td>red</td>\n",
       "      <td>blue</td>\n",
       "    </tr>\n",
       "  </tbody>\n",
       "</table>\n",
       "<p>5 rows × 76 columns</p>\n",
       "</div>"
      ],
      "text/plain": [
       "       salida  apcp_sf1_1  apcp_sf2_1  apcp_sf3_1  apcp_sf4_1  dlwrf_s1_1  \\\n",
       "0  10541700.0           1    0.000000         0.0           1  246.856309   \n",
       "1   4647300.0           1    0.010909         0.0           1  272.998596   \n",
       "2   7256400.0           1    0.000000         0.0           1  210.643638   \n",
       "3  10578600.0           1    0.000000         0.0           1  233.408503   \n",
       "4  10718100.0           1    0.000000         0.0           1  234.799111   \n",
       "\n",
       "   dlwrf_s4_1  dlwrf_s5_1  dswrf_s1_1  dswrf_s2_1  ...  tmp_sfc1_1  \\\n",
       "0           1  258.922896           1   20.000000  ...  275.987468   \n",
       "1           2  306.292719           1   17.272727  ...  282.917995   \n",
       "2           1  258.749222           1   20.000000  ...  266.578508   \n",
       "3           1  234.622230           1   20.000000  ...  271.652039   \n",
       "4           1  277.391008           1   20.000000  ...  272.005884   \n",
       "\n",
       "   ulwrf_t3_1  ulwrf_t4_1  uswrf_s1_1  dswrf_s5_1  pres_ms4_1  tmax_2m2_1  \\\n",
       "0  245.123907         0.0         0.0        blue        blue        blue   \n",
       "1  248.759998         0.0         0.0         red        blue        blue   \n",
       "2  218.298932         0.0         0.0       green        blue         red   \n",
       "3  237.125845         0.0         0.0        blue       green        blue   \n",
       "4  229.589168         0.0         0.0        blue         red        blue   \n",
       "\n",
       "   tmp_sfc5_1  ulwrf_s4_1  ulwrf_t5_1  \n",
       "0        blue         red        blue  \n",
       "1        blue         red        blue  \n",
       "2        blue        blue        blue  \n",
       "3         red         red        blue  \n",
       "4        blue         red        blue  \n",
       "\n",
       "[5 rows x 76 columns]"
      ]
     },
     "execution_count": 85,
     "metadata": {},
     "output_type": "execute_result"
    }
   ],
   "source": [
    "disp_22=pd.read_feather(\"/Users/miguel/Desktop/Aprendizaje Automático/disp_22.feather\")\n",
    "disp_22.head()"
   ]
  },
  {
   "cell_type": "markdown",
   "id": "b33c840e",
   "metadata": {},
   "source": [
    "## EDA"
   ]
  },
  {
   "cell_type": "markdown",
   "id": "883266a9",
   "metadata": {},
   "source": [
    "Este primer análisis EDA, nos dirá el número de variables numéricas y categóricas, ya que no hay variables ordinales ni missing values debido a que los datos con los que trabajamos ya están preprocesados en ese sentido."
   ]
  },
  {
   "cell_type": "code",
   "execution_count": 25,
   "id": "e075417a",
   "metadata": {},
   "outputs": [
    {
     "name": "stdout",
     "output_type": "stream",
     "text": [
      "<class 'pandas.core.frame.DataFrame'>\n",
      "(4380, 76)\n"
     ]
    }
   ],
   "source": [
    "print(type(disp_22))\n",
    "print(disp_22.shape) "
   ]
  },
  {
   "cell_type": "code",
   "execution_count": 33,
   "id": "9ee117c0",
   "metadata": {},
   "outputs": [
    {
     "name": "stdout",
     "output_type": "stream",
     "text": [
      "<class 'pandas.core.frame.DataFrame'>\n",
      "RangeIndex: 4380 entries, 0 to 4379\n",
      "Data columns (total 76 columns):\n",
      " #   Column      Non-Null Count  Dtype   \n",
      "---  ------      --------------  -----   \n",
      " 0   salida      4380 non-null   float64 \n",
      " 1   apcp_sf1_1  4380 non-null   int32   \n",
      " 2   apcp_sf2_1  4380 non-null   float64 \n",
      " 3   apcp_sf3_1  4380 non-null   float64 \n",
      " 4   apcp_sf4_1  4380 non-null   int32   \n",
      " 5   dlwrf_s1_1  4380 non-null   float64 \n",
      " 6   dlwrf_s4_1  4380 non-null   int32   \n",
      " 7   dlwrf_s5_1  4380 non-null   float64 \n",
      " 8   dswrf_s1_1  4380 non-null   int32   \n",
      " 9   dswrf_s2_1  4380 non-null   float64 \n",
      " 10  dswrf_s3_1  4380 non-null   int32   \n",
      " 11  dswrf_s4_1  4380 non-null   float64 \n",
      " 12  pres_ms1_1  4380 non-null   int32   \n",
      " 13  pres_ms2_1  4380 non-null   float64 \n",
      " 14  pres_ms3_1  4380 non-null   float64 \n",
      " 15  pres_ms5_1  4380 non-null   int32   \n",
      " 16  pwat_ea1_1  4380 non-null   int32   \n",
      " 17  pwat_ea2_1  4380 non-null   float64 \n",
      " 18  pwat_ea3_1  4380 non-null   int32   \n",
      " 19  pwat_ea5_1  4380 non-null   int32   \n",
      " 20  spfh_2m1_1  4380 non-null   float64 \n",
      " 21  spfh_2m2_1  4380 non-null   int32   \n",
      " 22  spfh_2m4_1  4380 non-null   int32   \n",
      " 23  tcdc_ea1_1  4380 non-null   int32   \n",
      " 24  tcdc_ea2_1  4380 non-null   int32   \n",
      " 25  tcdc_ea3_1  4380 non-null   int32   \n",
      " 26  tcdc_ea4_1  4380 non-null   int32   \n",
      " 27  tcdc_ea5_1  4380 non-null   float64 \n",
      " 28  tcolc_e1_1  4380 non-null   category\n",
      " 29  tcolc_e2_1  4380 non-null   float64 \n",
      " 30  tcolc_e3_1  4380 non-null   int32   \n",
      " 31  tmax_2m1_1  4380 non-null   float64 \n",
      " 32  tmax_2m3_1  4380 non-null   float64 \n",
      " 33  tmax_2m4_1  4380 non-null   int32   \n",
      " 34  tmax_2m5_1  4380 non-null   float64 \n",
      " 35  tmin_2m1_1  4380 non-null   int32   \n",
      " 36  tmin_2m2_1  4380 non-null   int32   \n",
      " 37  tmin_2m3_1  4380 non-null   int32   \n",
      " 38  tmin_2m4_1  4380 non-null   int32   \n",
      " 39  tmin_2m5_1  4380 non-null   int32   \n",
      " 40  tmp_2m_1_1  4380 non-null   int32   \n",
      " 41  tmp_2m_4_1  4380 non-null   int32   \n",
      " 42  tmp_2m_5_1  4380 non-null   float64 \n",
      " 43  tmp_sfc2_1  4380 non-null   int32   \n",
      " 44  tmp_sfc3_1  4380 non-null   int32   \n",
      " 45  tmp_sfc4_1  4380 non-null   int32   \n",
      " 46  ulwrf_s1_1  4380 non-null   float64 \n",
      " 47  ulwrf_s2_1  4380 non-null   int32   \n",
      " 48  ulwrf_s3_1  4380 non-null   int32   \n",
      " 49  ulwrf_s5_1  4380 non-null   int32   \n",
      " 50  ulwrf_t1_1  4380 non-null   int32   \n",
      " 51  ulwrf_t2_1  4380 non-null   int32   \n",
      " 52  uswrf_s2_1  4380 non-null   int32   \n",
      " 53  uswrf_s3_1  4380 non-null   float64 \n",
      " 54  uswrf_s4_1  4380 non-null   int32   \n",
      " 55  uswrf_s5_1  4380 non-null   int32   \n",
      " 56  apcp_sf5_1  4380 non-null   float64 \n",
      " 57  dlwrf_s2_1  4380 non-null   float64 \n",
      " 58  dlwrf_s3_1  4380 non-null   float64 \n",
      " 59  pwat_ea4_1  4380 non-null   float64 \n",
      " 60  spfh_2m3_1  4380 non-null   float64 \n",
      " 61  spfh_2m5_1  4380 non-null   float64 \n",
      " 62  tcolc_e4_1  4380 non-null   float64 \n",
      " 63  tcolc_e5_1  4380 non-null   float64 \n",
      " 64  tmp_2m_2_1  4380 non-null   float64 \n",
      " 65  tmp_2m_3_1  4380 non-null   float64 \n",
      " 66  tmp_sfc1_1  4380 non-null   float64 \n",
      " 67  ulwrf_t3_1  4380 non-null   float64 \n",
      " 68  ulwrf_t4_1  4380 non-null   float64 \n",
      " 69  uswrf_s1_1  4380 non-null   float64 \n",
      " 70  dswrf_s5_1  4380 non-null   category\n",
      " 71  pres_ms4_1  4380 non-null   category\n",
      " 72  tmax_2m2_1  4380 non-null   category\n",
      " 73  tmp_sfc5_1  4380 non-null   category\n",
      " 74  ulwrf_s4_1  4380 non-null   category\n",
      " 75  ulwrf_t5_1  4380 non-null   category\n",
      "dtypes: category(7), float64(33), int32(36)\n",
      "memory usage: 1.7 MB\n"
     ]
    }
   ],
   "source": [
    "disp_22.info()"
   ]
  },
  {
   "cell_type": "markdown",
   "id": "2d5672d6",
   "metadata": {},
   "source": [
    "Tenemos 7 variables categóricas, 33 de tipo float y 36 de tipo integer."
   ]
  },
  {
   "cell_type": "markdown",
   "id": "b4308af1",
   "metadata": {},
   "source": [
    "Ahora, procedemos a transformar las variables categóricas en numéricas a través de la creación de dummies,"
   ]
  },
  {
   "cell_type": "code",
   "execution_count": 93,
   "id": "68ff9d11",
   "metadata": {},
   "outputs": [
    {
     "name": "stdout",
     "output_type": "stream",
     "text": [
      "Ahora la tabla tiene las siguientes dimensiones: (4380, 153)\n",
      "\n",
      "Son 14 más que antes, pues se han añadido columnas dummies.\n",
      "\n",
      "<class 'numpy.ndarray'>\n",
      "\n",
      "[[1.05417000e+07 1.00000000e+00 0.00000000e+00 ... 0.00000000e+00\n",
      "  0.00000000e+00 0.00000000e+00]\n",
      " [4.64730000e+06 1.00000000e+00 1.09090907e-02 ... 0.00000000e+00\n",
      "  0.00000000e+00 0.00000000e+00]\n",
      " [7.25640000e+06 1.00000000e+00 0.00000000e+00 ... 0.00000000e+00\n",
      "  0.00000000e+00 0.00000000e+00]\n",
      " ...\n",
      " [1.12734000e+07 1.00000000e+00 0.00000000e+00 ... 1.00000000e+00\n",
      "  0.00000000e+00 0.00000000e+00]\n",
      " [9.36780000e+06 1.00000000e+00 0.00000000e+00 ... 0.00000000e+00\n",
      "  0.00000000e+00 0.00000000e+00]\n",
      " [1.06167000e+07 1.00000000e+00 0.00000000e+00 ... 0.00000000e+00\n",
      "  0.00000000e+00 0.00000000e+00]]\n"
     ]
    }
   ],
   "source": [
    "from sklearn.preprocessing import OneHotEncoder\n",
    "from sklearn.compose import ColumnTransformer\n",
    "from sklearn.compose import make_column_selector as selector\n",
    "\n",
    "categorical_features = ['dswrf_s5_1','pres_ms4_1','tmax_2m2_1','tmp_sfc5_1','ulwrf_s4_1','ulwrf_t5_1']\n",
    "\n",
    "preprocessor = ColumnTransformer(\n",
    "    transformers = [ \n",
    "                    ('categorical', OneHotEncoder(handle_unknown='ignore'),  selector(dtype_include=[\"category\"]))\n",
    "                    ],\n",
    "                    remainder='passthrough' \n",
    ")\n",
    "\n",
    "preprocessor.fit(disp_22)\n",
    "disp = preprocessor.transform(disp_22)\n",
    "\n",
    "print(f\"Ahora la tabla tiene las siguientes dimensiones: {disp.shape}\")\n",
    "print()\n",
    "print(\"Son 14 más que antes, pues se han añadido columnas dummies.\")\n",
    "print()\n",
    "\n",
    "# Y la matriz tiene formato numpy, lo que nos permite trabajar con sklearn\n",
    "print(type(disp))\n",
    "print()\n",
    "\n",
    "\n",
    "print(disp)"
   ]
  },
  {
   "cell_type": "markdown",
   "id": "3bca2b2c",
   "metadata": {},
   "source": [
    "Una vez creadas las dummies podemos comprobar que ya no tenemos variables categóricas en nuestros datos"
   ]
  },
  {
   "cell_type": "code",
   "execution_count": 95,
   "id": "bf24c0c8",
   "metadata": {},
   "outputs": [
    {
     "name": "stdout",
     "output_type": "stream",
     "text": [
      "float64\n",
      "\n",
      "Ya no hay variables categóricas\n"
     ]
    }
   ],
   "source": [
    "print(disp.dtype)\n",
    "print()\n",
    "print(\"Ya no hay variables categóricas\")"
   ]
  },
  {
   "cell_type": "markdown",
   "id": "52a81497",
   "metadata": {},
   "source": [
    "Ahora creamos la matriz de predictores X y la variable salida y para el scikit-learn,"
   ]
  },
  {
   "cell_type": "code",
   "execution_count": 97,
   "id": "dbf5f58a",
   "metadata": {},
   "outputs": [],
   "source": [
    "\n",
    "X = disp\n",
    "y = disp_22[\"salida\"].values"
   ]
  },
  {
   "cell_type": "markdown",
   "id": "637d5218",
   "metadata": {},
   "source": [
    "## Árbol de Regresión"
   ]
  },
  {
   "cell_type": "code",
   "execution_count": 98,
   "id": "9c93d4df",
   "metadata": {},
   "outputs": [
    {
     "name": "stdout",
     "output_type": "stream",
     "text": [
      "Accuracy of the tree: 24281.65189584285 \n"
     ]
    }
   ],
   "source": [
    "from sklearn.model_selection import train_test_split\n",
    "from sklearn import metrics\n",
    "from sklearn import tree\n",
    "\n",
    "# División train/test\n",
    "X_train = X[0:(6*365),:]\n",
    "X_test = X[(6*365)+1:len(X),:]\n",
    "y_train = y[0:(6*365)] \n",
    "y_test = y[(6*365)+1:len(y)]\n",
    "\n",
    "\n",
    "# Para nuestro trabajo queremos un Árbol de Regresión. Por tanto:\n",
    "arbol = tree.DecisionTreeRegressor()\n",
    "\n",
    "np.random.seed(55) # Proporcionamos aleatoriedad a los datos\n",
    "\n",
    "# Entrenamos el modelo\n",
    "arbol.fit(X_train, y_train)\n",
    "\n",
    "# Sacamos las predicciones en la muestra test\n",
    "y_test_pred = arbol.predict(X_test)\n",
    "\n",
    "# Y calculamos el error\n",
    "mae_validation_tree = metrics.mean_absolute_error(y_test, y_test_pred)\n",
    "print(f\"Accuracy of the tree: {mae_validation_tree} \")"
   ]
  },
  {
   "cell_type": "markdown",
   "id": "6046e044",
   "metadata": {},
   "source": [
    "## KNN"
   ]
  },
  {
   "cell_type": "code",
   "execution_count": 100,
   "id": "d6bd4523",
   "metadata": {},
   "outputs": [
    {
     "name": "stdout",
     "output_type": "stream",
     "text": [
      "Accuracy of the tree: 2629173.0890817726 \n"
     ]
    }
   ],
   "source": [
    "# Repetimos el proceso pero para knn\n",
    "\n",
    "from sklearn import neighbors \n",
    "from sklearn.preprocessing import StandardScaler\n",
    "from sklearn.pipeline import Pipeline\n",
    "\n",
    "knn = neighbors.KNeighborsRegressor()\n",
    "\n",
    "# Para knn es necesario estandarizar\n",
    "scaling = StandardScaler()\n",
    "\n",
    "# Creamos la pipeline\n",
    "knn_ = Pipeline([('scaler', scaling), \n",
    "                ('knn', knn)])\n",
    "\n",
    "np.random.seed(55) \n",
    "\n",
    "# Entrenamos el modelo\n",
    "knn_.fit(X_train, y_train)\n",
    "\n",
    "# Sacamos las predicciones en la muestra test\n",
    "y_test_pred = knn_.predict(X_test)\n",
    "\n",
    "# Y calculamos el error\n",
    "mae_validation_knn = metrics.mean_absolute_error(y_test, y_test_pred)\n",
    "print(f\"Accuracy of the tree: {mae_validation_knn} \")"
   ]
  },
  {
   "cell_type": "markdown",
   "id": "ff6243af",
   "metadata": {},
   "source": [
    "## RAE de ambos modelos"
   ]
  },
  {
   "cell_type": "code",
   "execution_count": 101,
   "id": "e888f333",
   "metadata": {},
   "outputs": [
    {
     "name": "stdout",
     "output_type": "stream",
     "text": [
      "RAE del árbol: 0.003491099205065895\n",
      "RAE del knn: 0.378009870195259\n"
     ]
    }
   ],
   "source": [
    "# Calculamos el RAE del árbol y del knn\n",
    "\n",
    "# RAE del árbol:\n",
    "mae_validation_dummy = np.mean(np.abs(y_test-y_train.mean()))\n",
    "\n",
    "rae_validation_tree = mae_validation_tree / mae_validation_dummy\n",
    "\n",
    "print(f\"RAE del árbol: {rae_validation_tree}\")\n",
    "\n",
    "# RAE del knn:\n",
    "mae_validation_dummy = np.mean(np.abs(y_test-y_train.mean()))\n",
    "\n",
    "rae_validation_knn = mae_validation_knn / mae_validation_dummy\n",
    "\n",
    "print(f\"RAE del knn: {rae_validation_knn}\")"
   ]
  },
  {
   "cell_type": "markdown",
   "id": "d10df458",
   "metadata": {},
   "source": [
    "Vemos como el error del árbol de regresión es mucho menor, por lo que lo consideramos mejor modelo de predicción el árbol que el knn."
   ]
  },
  {
   "cell_type": "markdown",
   "id": "5218b306",
   "metadata": {},
   "source": [
    "## Comparación con los RAE en mlr"
   ]
  },
  {
   "cell_type": "markdown",
   "id": "67f6a2eb",
   "metadata": {},
   "source": [
    "En nuestro caso, el RAE del knn sin ajuste de hiperparametros en mlr era  0.3737218, un RAE casi idéntico al que nos ha salido con skylearn. Por otro lado, el RAE del modelo rpart en mlr era 0.4012389, un error mucho mayor que el obtenido en este árbol de regresión."
   ]
  }
 ],
 "metadata": {
  "kernelspec": {
   "display_name": "Python 3 (ipykernel)",
   "language": "python",
   "name": "python3"
  },
  "language_info": {
   "codemirror_mode": {
    "name": "ipython",
    "version": 3
   },
   "file_extension": ".py",
   "mimetype": "text/x-python",
   "name": "python",
   "nbconvert_exporter": "python",
   "pygments_lexer": "ipython3",
   "version": "3.9.13"
  }
 },
 "nbformat": 4,
 "nbformat_minor": 5
}
